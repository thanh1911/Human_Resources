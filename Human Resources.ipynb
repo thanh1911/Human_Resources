{
 "cells": [
  {
   "cell_type": "code",
   "execution_count": 1,
   "id": "9e13eb73",
   "metadata": {},
   "outputs": [],
   "source": [
    "import pandas as pd\n",
    "import seaborn as sns\n",
    "import numpy as np"
   ]
  },
  {
   "cell_type": "code",
   "execution_count": 2,
   "id": "04de4e8b",
   "metadata": {},
   "outputs": [],
   "source": [
    "data = pd.read_csv('HRDataset_v14.csv')"
   ]
  },
  {
   "cell_type": "code",
   "execution_count": 3,
   "id": "2fdcf108",
   "metadata": {},
   "outputs": [
    {
     "data": {
      "text/html": [
       "<div>\n",
       "<style scoped>\n",
       "    .dataframe tbody tr th:only-of-type {\n",
       "        vertical-align: middle;\n",
       "    }\n",
       "\n",
       "    .dataframe tbody tr th {\n",
       "        vertical-align: top;\n",
       "    }\n",
       "\n",
       "    .dataframe thead th {\n",
       "        text-align: right;\n",
       "    }\n",
       "</style>\n",
       "<table border=\"1\" class=\"dataframe\">\n",
       "  <thead>\n",
       "    <tr style=\"text-align: right;\">\n",
       "      <th></th>\n",
       "      <th>Employee_Name</th>\n",
       "      <th>EmpID</th>\n",
       "      <th>MarriedID</th>\n",
       "      <th>MaritalStatusID</th>\n",
       "      <th>GenderID</th>\n",
       "      <th>EmpStatusID</th>\n",
       "      <th>DeptID</th>\n",
       "      <th>PerfScoreID</th>\n",
       "      <th>FromDiversityJobFairID</th>\n",
       "      <th>Salary</th>\n",
       "      <th>...</th>\n",
       "      <th>ManagerName</th>\n",
       "      <th>ManagerID</th>\n",
       "      <th>RecruitmentSource</th>\n",
       "      <th>PerformanceScore</th>\n",
       "      <th>EngagementSurvey</th>\n",
       "      <th>EmpSatisfaction</th>\n",
       "      <th>SpecialProjectsCount</th>\n",
       "      <th>LastPerformanceReview_Date</th>\n",
       "      <th>DaysLateLast30</th>\n",
       "      <th>Absences</th>\n",
       "    </tr>\n",
       "  </thead>\n",
       "  <tbody>\n",
       "    <tr>\n",
       "      <th>0</th>\n",
       "      <td>Adinolfi, Wilson  K</td>\n",
       "      <td>10026</td>\n",
       "      <td>0</td>\n",
       "      <td>0</td>\n",
       "      <td>1</td>\n",
       "      <td>1</td>\n",
       "      <td>5</td>\n",
       "      <td>4</td>\n",
       "      <td>0</td>\n",
       "      <td>62506</td>\n",
       "      <td>...</td>\n",
       "      <td>Michael Albert</td>\n",
       "      <td>22.0</td>\n",
       "      <td>LinkedIn</td>\n",
       "      <td>Exceeds</td>\n",
       "      <td>4.60</td>\n",
       "      <td>5</td>\n",
       "      <td>0</td>\n",
       "      <td>1/17/2019</td>\n",
       "      <td>0</td>\n",
       "      <td>1</td>\n",
       "    </tr>\n",
       "    <tr>\n",
       "      <th>1</th>\n",
       "      <td>Ait Sidi, Karthikeyan</td>\n",
       "      <td>10084</td>\n",
       "      <td>1</td>\n",
       "      <td>1</td>\n",
       "      <td>1</td>\n",
       "      <td>5</td>\n",
       "      <td>3</td>\n",
       "      <td>3</td>\n",
       "      <td>0</td>\n",
       "      <td>104437</td>\n",
       "      <td>...</td>\n",
       "      <td>Simon Roup</td>\n",
       "      <td>4.0</td>\n",
       "      <td>Indeed</td>\n",
       "      <td>Fully Meets</td>\n",
       "      <td>4.96</td>\n",
       "      <td>3</td>\n",
       "      <td>6</td>\n",
       "      <td>2/24/2016</td>\n",
       "      <td>0</td>\n",
       "      <td>17</td>\n",
       "    </tr>\n",
       "    <tr>\n",
       "      <th>2</th>\n",
       "      <td>Akinkuolie, Sarah</td>\n",
       "      <td>10196</td>\n",
       "      <td>1</td>\n",
       "      <td>1</td>\n",
       "      <td>0</td>\n",
       "      <td>5</td>\n",
       "      <td>5</td>\n",
       "      <td>3</td>\n",
       "      <td>0</td>\n",
       "      <td>64955</td>\n",
       "      <td>...</td>\n",
       "      <td>Kissy Sullivan</td>\n",
       "      <td>20.0</td>\n",
       "      <td>LinkedIn</td>\n",
       "      <td>Fully Meets</td>\n",
       "      <td>3.02</td>\n",
       "      <td>3</td>\n",
       "      <td>0</td>\n",
       "      <td>5/15/2012</td>\n",
       "      <td>0</td>\n",
       "      <td>3</td>\n",
       "    </tr>\n",
       "    <tr>\n",
       "      <th>3</th>\n",
       "      <td>Alagbe,Trina</td>\n",
       "      <td>10088</td>\n",
       "      <td>1</td>\n",
       "      <td>1</td>\n",
       "      <td>0</td>\n",
       "      <td>1</td>\n",
       "      <td>5</td>\n",
       "      <td>3</td>\n",
       "      <td>0</td>\n",
       "      <td>64991</td>\n",
       "      <td>...</td>\n",
       "      <td>Elijiah Gray</td>\n",
       "      <td>16.0</td>\n",
       "      <td>Indeed</td>\n",
       "      <td>Fully Meets</td>\n",
       "      <td>4.84</td>\n",
       "      <td>5</td>\n",
       "      <td>0</td>\n",
       "      <td>1/3/2019</td>\n",
       "      <td>0</td>\n",
       "      <td>15</td>\n",
       "    </tr>\n",
       "    <tr>\n",
       "      <th>4</th>\n",
       "      <td>Anderson, Carol</td>\n",
       "      <td>10069</td>\n",
       "      <td>0</td>\n",
       "      <td>2</td>\n",
       "      <td>0</td>\n",
       "      <td>5</td>\n",
       "      <td>5</td>\n",
       "      <td>3</td>\n",
       "      <td>0</td>\n",
       "      <td>50825</td>\n",
       "      <td>...</td>\n",
       "      <td>Webster Butler</td>\n",
       "      <td>39.0</td>\n",
       "      <td>Google Search</td>\n",
       "      <td>Fully Meets</td>\n",
       "      <td>5.00</td>\n",
       "      <td>4</td>\n",
       "      <td>0</td>\n",
       "      <td>2/1/2016</td>\n",
       "      <td>0</td>\n",
       "      <td>2</td>\n",
       "    </tr>\n",
       "  </tbody>\n",
       "</table>\n",
       "<p>5 rows × 36 columns</p>\n",
       "</div>"
      ],
      "text/plain": [
       "              Employee_Name  EmpID  MarriedID  MaritalStatusID  GenderID  \\\n",
       "0       Adinolfi, Wilson  K  10026          0                0         1   \n",
       "1  Ait Sidi, Karthikeyan     10084          1                1         1   \n",
       "2         Akinkuolie, Sarah  10196          1                1         0   \n",
       "3              Alagbe,Trina  10088          1                1         0   \n",
       "4          Anderson, Carol   10069          0                2         0   \n",
       "\n",
       "   EmpStatusID  DeptID  PerfScoreID  FromDiversityJobFairID  Salary  ...  \\\n",
       "0            1       5            4                       0   62506  ...   \n",
       "1            5       3            3                       0  104437  ...   \n",
       "2            5       5            3                       0   64955  ...   \n",
       "3            1       5            3                       0   64991  ...   \n",
       "4            5       5            3                       0   50825  ...   \n",
       "\n",
       "      ManagerName  ManagerID RecruitmentSource PerformanceScore  \\\n",
       "0  Michael Albert       22.0          LinkedIn          Exceeds   \n",
       "1      Simon Roup        4.0            Indeed      Fully Meets   \n",
       "2  Kissy Sullivan       20.0          LinkedIn      Fully Meets   \n",
       "3    Elijiah Gray       16.0            Indeed      Fully Meets   \n",
       "4  Webster Butler       39.0     Google Search      Fully Meets   \n",
       "\n",
       "   EngagementSurvey EmpSatisfaction SpecialProjectsCount  \\\n",
       "0              4.60               5                    0   \n",
       "1              4.96               3                    6   \n",
       "2              3.02               3                    0   \n",
       "3              4.84               5                    0   \n",
       "4              5.00               4                    0   \n",
       "\n",
       "  LastPerformanceReview_Date DaysLateLast30 Absences  \n",
       "0                  1/17/2019              0        1  \n",
       "1                  2/24/2016              0       17  \n",
       "2                  5/15/2012              0        3  \n",
       "3                   1/3/2019              0       15  \n",
       "4                   2/1/2016              0        2  \n",
       "\n",
       "[5 rows x 36 columns]"
      ]
     },
     "execution_count": 3,
     "metadata": {},
     "output_type": "execute_result"
    }
   ],
   "source": [
    "data.head()"
   ]
  },
  {
   "cell_type": "code",
   "execution_count": 4,
   "id": "d5515afb",
   "metadata": {},
   "outputs": [
    {
     "data": {
      "text/plain": [
       "(311, 36)"
      ]
     },
     "execution_count": 4,
     "metadata": {},
     "output_type": "execute_result"
    }
   ],
   "source": [
    "data.shape"
   ]
  },
  {
   "cell_type": "code",
   "execution_count": 5,
   "id": "e646198a",
   "metadata": {},
   "outputs": [
    {
     "data": {
      "text/plain": [
       "Index(['Employee_Name', 'EmpID', 'MarriedID', 'MaritalStatusID', 'GenderID',\n",
       "       'EmpStatusID', 'DeptID', 'PerfScoreID', 'FromDiversityJobFairID',\n",
       "       'Salary', 'Termd', 'PositionID', 'Position', 'State', 'Zip', 'DOB',\n",
       "       'Sex', 'MaritalDesc', 'CitizenDesc', 'HispanicLatino', 'RaceDesc',\n",
       "       'DateofHire', 'DateofTermination', 'TermReason', 'EmploymentStatus',\n",
       "       'Department', 'ManagerName', 'ManagerID', 'RecruitmentSource',\n",
       "       'PerformanceScore', 'EngagementSurvey', 'EmpSatisfaction',\n",
       "       'SpecialProjectsCount', 'LastPerformanceReview_Date', 'DaysLateLast30',\n",
       "       'Absences'],\n",
       "      dtype='object')"
      ]
     },
     "execution_count": 5,
     "metadata": {},
     "output_type": "execute_result"
    }
   ],
   "source": [
    "data.columns"
   ]
  },
  {
   "cell_type": "code",
   "execution_count": 6,
   "id": "6827feb5",
   "metadata": {},
   "outputs": [
    {
     "data": {
      "text/plain": [
       "Employee_Name                        King, Janet\n",
       "EmpID                                      10089\n",
       "MarriedID                                      1\n",
       "MaritalStatusID                                1\n",
       "GenderID                                       0\n",
       "EmpStatusID                                    1\n",
       "DeptID                                         2\n",
       "PerfScoreID                                    3\n",
       "FromDiversityJobFairID                         0\n",
       "Salary                                    250000\n",
       "Termd                                          0\n",
       "PositionID                                    16\n",
       "Position                         President & CEO\n",
       "State                                         MA\n",
       "Zip                                         1902\n",
       "DOB                                     09/21/54\n",
       "Sex                                            F\n",
       "MaritalDesc                              Married\n",
       "CitizenDesc                           US Citizen\n",
       "HispanicLatino                               Yes\n",
       "RaceDesc                                   White\n",
       "DateofHire                              7/2/2012\n",
       "DateofTermination                            NaN\n",
       "TermReason                     N/A-StillEmployed\n",
       "EmploymentStatus                          Active\n",
       "Department                      Executive Office\n",
       "ManagerName                   Board of Directors\n",
       "ManagerID                                    9.0\n",
       "RecruitmentSource                         Indeed\n",
       "PerformanceScore                     Fully Meets\n",
       "EngagementSurvey                            4.83\n",
       "EmpSatisfaction                                3\n",
       "SpecialProjectsCount                           0\n",
       "LastPerformanceReview_Date             1/17/2019\n",
       "DaysLateLast30                                 0\n",
       "Absences                                      10\n",
       "Name: 150, dtype: object"
      ]
     },
     "execution_count": 6,
     "metadata": {},
     "output_type": "execute_result"
    }
   ],
   "source": [
    "data.iloc[data['Salary'].idxmax()]"
   ]
  },
  {
   "cell_type": "code",
   "execution_count": 7,
   "id": "1a3084a0",
   "metadata": {},
   "outputs": [
    {
     "data": {
      "text/plain": [
       "Employee_Name                           Zima, Colleen\n",
       "EmpID                                           10271\n",
       "MarriedID                                           0\n",
       "MaritalStatusID                                     4\n",
       "GenderID                                            0\n",
       "EmpStatusID                                         1\n",
       "DeptID                                              5\n",
       "PerfScoreID                                         3\n",
       "FromDiversityJobFairID                              0\n",
       "Salary                                          45046\n",
       "Termd                                               0\n",
       "PositionID                                         19\n",
       "Position                      Production Technician I\n",
       "State                                              MA\n",
       "Zip                                              1730\n",
       "DOB                                          08/17/78\n",
       "Sex                                                 F\n",
       "MaritalDesc                                   Widowed\n",
       "CitizenDesc                                US Citizen\n",
       "HispanicLatino                                     No\n",
       "RaceDesc                                        Asian\n",
       "DateofHire                                  9/29/2014\n",
       "DateofTermination                                 NaN\n",
       "TermReason                          N/A-StillEmployed\n",
       "EmploymentStatus                               Active\n",
       "Department                          Production       \n",
       "ManagerName                             David Stanley\n",
       "ManagerID                                        14.0\n",
       "RecruitmentSource                            LinkedIn\n",
       "PerformanceScore                          Fully Meets\n",
       "EngagementSurvey                                  4.5\n",
       "EmpSatisfaction                                     5\n",
       "SpecialProjectsCount                                0\n",
       "LastPerformanceReview_Date                  1/30/2019\n",
       "DaysLateLast30                                      0\n",
       "Absences                                            2\n",
       "Name: 310, dtype: object"
      ]
     },
     "execution_count": 7,
     "metadata": {},
     "output_type": "execute_result"
    }
   ],
   "source": [
    "data.iloc[data['Salary'].idxmin()]"
   ]
  },
  {
   "cell_type": "code",
   "execution_count": 8,
   "id": "b34331f7",
   "metadata": {},
   "outputs": [
    {
     "data": {
      "text/plain": [
       "Employee_Name                           Bates, Norman\n",
       "EmpID                                           10061\n",
       "MarriedID                                           0\n",
       "MaritalStatusID                                     0\n",
       "GenderID                                            1\n",
       "EmpStatusID                                         4\n",
       "DeptID                                              5\n",
       "PerfScoreID                                         3\n",
       "FromDiversityJobFairID                              0\n",
       "Salary                                          57834\n",
       "Termd                                               1\n",
       "PositionID                                         19\n",
       "Position                      Production Technician I\n",
       "State                                              MA\n",
       "Zip                                              2050\n",
       "DOB                                          10/18/81\n",
       "Sex                                                M \n",
       "MaritalDesc                                    Single\n",
       "CitizenDesc                                US Citizen\n",
       "HispanicLatino                                     No\n",
       "RaceDesc                                        White\n",
       "DateofHire                                  2/21/2011\n",
       "DateofTermination                            8/4/2017\n",
       "TermReason                                 attendance\n",
       "EmploymentStatus                 Terminated for Cause\n",
       "Department                          Production       \n",
       "ManagerName                             Kelley Spirea\n",
       "ManagerID                                        18.0\n",
       "RecruitmentSource                       Google Search\n",
       "PerformanceScore                          Fully Meets\n",
       "EngagementSurvey                                  5.0\n",
       "EmpSatisfaction                                     4\n",
       "SpecialProjectsCount                                0\n",
       "LastPerformanceReview_Date                   4/5/2017\n",
       "DaysLateLast30                                      0\n",
       "Absences                                           20\n",
       "Name: 15, dtype: object"
      ]
     },
     "execution_count": 8,
     "metadata": {},
     "output_type": "execute_result"
    }
   ],
   "source": [
    "data.iloc[data['Absences'].idxmax()]"
   ]
  },
  {
   "cell_type": "code",
   "execution_count": 9,
   "id": "7988d739",
   "metadata": {},
   "outputs": [
    {
     "data": {
      "text/plain": [
       "Employee_Name                     Adinolfi, Wilson  K\n",
       "EmpID                                           10026\n",
       "MarriedID                                           0\n",
       "MaritalStatusID                                     0\n",
       "GenderID                                            1\n",
       "EmpStatusID                                         1\n",
       "DeptID                                              5\n",
       "PerfScoreID                                         4\n",
       "FromDiversityJobFairID                              0\n",
       "Salary                                          62506\n",
       "Termd                                               0\n",
       "PositionID                                         19\n",
       "Position                      Production Technician I\n",
       "State                                              MA\n",
       "Zip                                              1960\n",
       "DOB                                          07/10/83\n",
       "Sex                                                M \n",
       "MaritalDesc                                    Single\n",
       "CitizenDesc                                US Citizen\n",
       "HispanicLatino                                     No\n",
       "RaceDesc                                        White\n",
       "DateofHire                                   7/5/2011\n",
       "DateofTermination                                 NaN\n",
       "TermReason                          N/A-StillEmployed\n",
       "EmploymentStatus                               Active\n",
       "Department                          Production       \n",
       "ManagerName                            Michael Albert\n",
       "ManagerID                                        22.0\n",
       "RecruitmentSource                            LinkedIn\n",
       "PerformanceScore                              Exceeds\n",
       "EngagementSurvey                                  4.6\n",
       "EmpSatisfaction                                     5\n",
       "SpecialProjectsCount                                0\n",
       "LastPerformanceReview_Date                  1/17/2019\n",
       "DaysLateLast30                                      0\n",
       "Absences                                            1\n",
       "Name: 0, dtype: object"
      ]
     },
     "execution_count": 9,
     "metadata": {},
     "output_type": "execute_result"
    }
   ],
   "source": [
    "data.iloc[data['Absences'].idxmin()]"
   ]
  },
  {
   "cell_type": "code",
   "execution_count": 10,
   "id": "ff130b5c",
   "metadata": {},
   "outputs": [
    {
     "data": {
      "text/plain": [
       "Employee_Name                      Delarge, Alex\n",
       "EmpID                                      10306\n",
       "MarriedID                                      0\n",
       "MaritalStatusID                                0\n",
       "GenderID                                       1\n",
       "EmpStatusID                                    1\n",
       "DeptID                                         6\n",
       "PerfScoreID                                    1\n",
       "FromDiversityJobFairID                         0\n",
       "Salary                                     61568\n",
       "Termd                                          0\n",
       "PositionID                                     3\n",
       "Position                      Area Sales Manager\n",
       "State                                         AL\n",
       "Zip                                        36006\n",
       "DOB                                     11/02/75\n",
       "Sex                                           M \n",
       "MaritalDesc                               Single\n",
       "CitizenDesc                           US Citizen\n",
       "HispanicLatino                                No\n",
       "RaceDesc                       Two or more races\n",
       "DateofHire                             9/29/2014\n",
       "DateofTermination                            NaN\n",
       "TermReason                     N/A-StillEmployed\n",
       "EmploymentStatus                          Active\n",
       "Department                                 Sales\n",
       "ManagerName                           John Smith\n",
       "ManagerID                                   17.0\n",
       "RecruitmentSource                         Indeed\n",
       "PerformanceScore                             PIP\n",
       "EngagementSurvey                            1.93\n",
       "EmpSatisfaction                                3\n",
       "SpecialProjectsCount                           0\n",
       "LastPerformanceReview_Date             1/30/2019\n",
       "DaysLateLast30                                 6\n",
       "Absences                                       5\n",
       "Name: 67, dtype: object"
      ]
     },
     "execution_count": 10,
     "metadata": {},
     "output_type": "execute_result"
    }
   ],
   "source": [
    "data.iloc[data['DaysLateLast30'].idxmax()]"
   ]
  },
  {
   "cell_type": "code",
   "execution_count": 11,
   "id": "310a11ee",
   "metadata": {},
   "outputs": [
    {
     "data": {
      "text/plain": [
       "Employee_Name                     Adinolfi, Wilson  K\n",
       "EmpID                                           10026\n",
       "MarriedID                                           0\n",
       "MaritalStatusID                                     0\n",
       "GenderID                                            1\n",
       "EmpStatusID                                         1\n",
       "DeptID                                              5\n",
       "PerfScoreID                                         4\n",
       "FromDiversityJobFairID                              0\n",
       "Salary                                          62506\n",
       "Termd                                               0\n",
       "PositionID                                         19\n",
       "Position                      Production Technician I\n",
       "State                                              MA\n",
       "Zip                                              1960\n",
       "DOB                                          07/10/83\n",
       "Sex                                                M \n",
       "MaritalDesc                                    Single\n",
       "CitizenDesc                                US Citizen\n",
       "HispanicLatino                                     No\n",
       "RaceDesc                                        White\n",
       "DateofHire                                   7/5/2011\n",
       "DateofTermination                                 NaN\n",
       "TermReason                          N/A-StillEmployed\n",
       "EmploymentStatus                               Active\n",
       "Department                          Production       \n",
       "ManagerName                            Michael Albert\n",
       "ManagerID                                        22.0\n",
       "RecruitmentSource                            LinkedIn\n",
       "PerformanceScore                              Exceeds\n",
       "EngagementSurvey                                  4.6\n",
       "EmpSatisfaction                                     5\n",
       "SpecialProjectsCount                                0\n",
       "LastPerformanceReview_Date                  1/17/2019\n",
       "DaysLateLast30                                      0\n",
       "Absences                                            1\n",
       "Name: 0, dtype: object"
      ]
     },
     "execution_count": 11,
     "metadata": {},
     "output_type": "execute_result"
    }
   ],
   "source": [
    "data.iloc[data['DaysLateLast30'].idxmin()]"
   ]
  },
  {
   "cell_type": "code",
   "execution_count": 12,
   "id": "d329ea77",
   "metadata": {},
   "outputs": [
    {
     "data": {
      "text/plain": [
       "Production Technician I         137\n",
       "Production Technician II         57\n",
       "Area Sales Manager               27\n",
       "Production Manager               14\n",
       "Software Engineer                10\n",
       "IT Support                        8\n",
       "Data Analyst                      7\n",
       "Sr. Network Engineer              5\n",
       "Database Administrator            5\n",
       "Network Engineer                  5\n",
       "BI Developer                      4\n",
       "Senior BI Developer               3\n",
       "Administrative Assistant          3\n",
       "Sales Manager                     3\n",
       "Accountant I                      3\n",
       "Sr. Accountant                    2\n",
       "IT Manager - DB                   2\n",
       "Sr. DBA                           2\n",
       "Director of Operations            1\n",
       "Shared Services Manager           1\n",
       "Data Analyst                      1\n",
       "Data Architect                    1\n",
       "Principal Data Architect          1\n",
       "IT Manager - Infra                1\n",
       "President & CEO                   1\n",
       "Enterprise Architect              1\n",
       "BI Director                       1\n",
       "Director of Sales                 1\n",
       "IT Director                       1\n",
       "IT Manager - Support              1\n",
       "Software Engineering Manager      1\n",
       "CIO                               1\n",
       "Name: Position, dtype: int64"
      ]
     },
     "execution_count": 12,
     "metadata": {},
     "output_type": "execute_result"
    }
   ],
   "source": [
    "data['Position'].value_counts().sort_values(ascending = False)"
   ]
  },
  {
   "cell_type": "code",
   "execution_count": 13,
   "id": "502fe0b5",
   "metadata": {},
   "outputs": [
    {
     "data": {
      "text/plain": [
       "Indeed                     87\n",
       "LinkedIn                   76\n",
       "Google Search              49\n",
       "Employee Referral          31\n",
       "Diversity Job Fair         29\n",
       "CareerBuilder              23\n",
       "Website                    13\n",
       "Other                       2\n",
       "On-line Web application     1\n",
       "Name: RecruitmentSource, dtype: int64"
      ]
     },
     "execution_count": 13,
     "metadata": {},
     "output_type": "execute_result"
    }
   ],
   "source": [
    "data['RecruitmentSource'].value_counts()"
   ]
  },
  {
   "cell_type": "code",
   "execution_count": 14,
   "id": "36a605ed",
   "metadata": {},
   "outputs": [
    {
     "data": {
      "text/plain": [
       "F     176\n",
       "M     135\n",
       "Name: Sex, dtype: int64"
      ]
     },
     "execution_count": 14,
     "metadata": {},
     "output_type": "execute_result"
    }
   ],
   "source": [
    "data['Sex'].value_counts()"
   ]
  },
  {
   "cell_type": "code",
   "execution_count": 15,
   "id": "f10a52f6",
   "metadata": {},
   "outputs": [],
   "source": [
    "import matplotlib.pyplot as plt"
   ]
  },
  {
   "cell_type": "code",
   "execution_count": 16,
   "id": "e120ef6b",
   "metadata": {},
   "outputs": [],
   "source": [
    "import matplotlib\n",
    "matplotlib.rc('figure',figsize = (20,10))"
   ]
  },
  {
   "cell_type": "code",
   "execution_count": 17,
   "id": "cc2f18c1",
   "metadata": {},
   "outputs": [
    {
     "data": {
      "image/png": "[encoded data removed]",
      "text/plain": [
       "<Figure size 2000x1000 with 1 Axes>"
      ]
     },
     "metadata": {},
     "output_type": "display_data"
    }
   ],
   "source": [
    "data['Sex'].value_counts().plot(kind='bar')\n",
    "plt.show()"
   ]
  },
  {
   "cell_type": "code",
   "execution_count": 18,
   "id": "9ec03bd6",
   "metadata": {},
   "outputs": [
    {
     "data": {
      "text/plain": [
       "White                               187\n",
       "Black or African American            80\n",
       "Asian                                29\n",
       "Two or more races                    11\n",
       "American Indian or Alaska Native      3\n",
       "Hispanic                              1\n",
       "Name: RaceDesc, dtype: int64"
      ]
     },
     "execution_count": 18,
     "metadata": {},
     "output_type": "execute_result"
    }
   ],
   "source": [
    "data['RaceDesc'].value_counts()"
   ]
  },
  {
   "cell_type": "code",
   "execution_count": 19,
   "id": "5e68ac2c",
   "metadata": {},
   "outputs": [
    {
     "data": {
      "text/plain": [
       "<AxesSubplot: >"
      ]
     },
     "execution_count": 19,
     "metadata": {},
     "output_type": "execute_result"
    },
    {
     "data": {
      "image/png": "[encoded data removed]",
      "text/plain": [
       "<Figure size 2000x1000 with 1 Axes>"
      ]
     },
     "metadata": {},
     "output_type": "display_data"
    }
   ],
   "source": [
    "data['RaceDesc'].value_counts().plot(kind='bar')"
   ]
  },
  {
   "cell_type": "code",
   "execution_count": 20,
   "id": "6b15b012",
   "metadata": {},
   "outputs": [],
   "source": [
    "recruitmentlabels = data['RecruitmentSource'].unique()"
   ]
  },
  {
   "cell_type": "code",
   "execution_count": 21,
   "id": "b760d5da",
   "metadata": {},
   "outputs": [
    {
     "data": {
      "text/plain": [
       "array(['LinkedIn', 'Indeed', 'Google Search', 'Employee Referral',\n",
       "       'Diversity Job Fair', 'On-line Web application', 'CareerBuilder',\n",
       "       'Website', 'Other'], dtype=object)"
      ]
     },
     "execution_count": 21,
     "metadata": {},
     "output_type": "execute_result"
    }
   ],
   "source": [
    "recruitmentlabels"
   ]
  },
  {
   "cell_type": "code",
   "execution_count": 22,
   "id": "f88760c1",
   "metadata": {},
   "outputs": [
    {
     "data": {
      "image/png": "[encoded data removed]",
      "text/plain": [
       "<Figure size 2000x1000 with 1 Axes>"
      ]
     },
     "metadata": {},
     "output_type": "display_data"
    }
   ],
   "source": [
    "plt.pie(data[\"RecruitmentSource\"].value_counts(),labels = recruitmentlabels)\n",
    "plt.show()"
   ]
  },
  {
   "cell_type": "code",
   "execution_count": 23,
   "id": "d92a88c0",
   "metadata": {},
   "outputs": [
    {
     "data": {
      "text/plain": [
       "Index(['Employee_Name', 'EmpID', 'MarriedID', 'MaritalStatusID', 'GenderID',\n",
       "       'EmpStatusID', 'DeptID', 'PerfScoreID', 'FromDiversityJobFairID',\n",
       "       'Salary', 'Termd', 'PositionID', 'Position', 'State', 'Zip', 'DOB',\n",
       "       'Sex', 'MaritalDesc', 'CitizenDesc', 'HispanicLatino', 'RaceDesc',\n",
       "       'DateofHire', 'DateofTermination', 'TermReason', 'EmploymentStatus',\n",
       "       'Department', 'ManagerName', 'ManagerID', 'RecruitmentSource',\n",
       "       'PerformanceScore', 'EngagementSurvey', 'EmpSatisfaction',\n",
       "       'SpecialProjectsCount', 'LastPerformanceReview_Date', 'DaysLateLast30',\n",
       "       'Absences'],\n",
       "      dtype='object')"
      ]
     },
     "execution_count": 23,
     "metadata": {},
     "output_type": "execute_result"
    }
   ],
   "source": [
    "data.columns"
   ]
  },
  {
   "cell_type": "code",
   "execution_count": 24,
   "id": "395c0433",
   "metadata": {},
   "outputs": [],
   "source": [
    "performancelabels = data[\"PerformanceScore\"].unique()"
   ]
  },
  {
   "cell_type": "code",
   "execution_count": 25,
   "id": "91ec2953",
   "metadata": {},
   "outputs": [
    {
     "data": {
      "image/png": "[encoded data removed]",
      "text/plain": [
       "<Figure size 2000x1000 with 1 Axes>"
      ]
     },
     "metadata": {},
     "output_type": "display_data"
    }
   ],
   "source": [
    "plt.pie(data['PerformanceScore'].value_counts(),labels = performancelabels)\n",
    "plt.show()"
   ]
  },
  {
   "cell_type": "code",
   "execution_count": 26,
   "id": "078b4110",
   "metadata": {},
   "outputs": [],
   "source": [
    "departmentlabels = data['Department'].unique()"
   ]
  },
  {
   "cell_type": "code",
   "execution_count": 27,
   "id": "1a993487",
   "metadata": {},
   "outputs": [
    {
     "data": {
      "image/png": "[encoded data removed]",
      "text/plain": [
       "<Figure size 2000x1000 with 1 Axes>"
      ]
     },
     "metadata": {},
     "output_type": "display_data"
    }
   ],
   "source": [
    "plt.pie(data['Department'].value_counts(),labels = departmentlabels)\n",
    "plt.show()"
   ]
  },
  {
   "cell_type": "code",
   "execution_count": 28,
   "id": "ddea8ba8",
   "metadata": {},
   "outputs": [
    {
     "data": {
      "text/plain": [
       "Index(['Employee_Name', 'EmpID', 'MarriedID', 'MaritalStatusID', 'GenderID',\n",
       "       'EmpStatusID', 'DeptID', 'PerfScoreID', 'FromDiversityJobFairID',\n",
       "       'Salary', 'Termd', 'PositionID', 'Position', 'State', 'Zip', 'DOB',\n",
       "       'Sex', 'MaritalDesc', 'CitizenDesc', 'HispanicLatino', 'RaceDesc',\n",
       "       'DateofHire', 'DateofTermination', 'TermReason', 'EmploymentStatus',\n",
       "       'Department', 'ManagerName', 'ManagerID', 'RecruitmentSource',\n",
       "       'PerformanceScore', 'EngagementSurvey', 'EmpSatisfaction',\n",
       "       'SpecialProjectsCount', 'LastPerformanceReview_Date', 'DaysLateLast30',\n",
       "       'Absences'],\n",
       "      dtype='object')"
      ]
     },
     "execution_count": 28,
     "metadata": {},
     "output_type": "execute_result"
    }
   ],
   "source": [
    "data.columns"
   ]
  },
  {
   "cell_type": "code",
   "execution_count": 29,
   "id": "ef7b10fc",
   "metadata": {},
   "outputs": [],
   "source": [
    "df = data[['Sex','Department','RaceDesc','Salary','PerformanceScore']]"
   ]
  },
  {
   "cell_type": "code",
   "execution_count": 30,
   "id": "183516b5",
   "metadata": {},
   "outputs": [
    {
     "data": {
      "text/html": [
       "<div>\n",
       "<style scoped>\n",
       "    .dataframe tbody tr th:only-of-type {\n",
       "        vertical-align: middle;\n",
       "    }\n",
       "\n",
       "    .dataframe tbody tr th {\n",
       "        vertical-align: top;\n",
       "    }\n",
       "\n",
       "    .dataframe thead th {\n",
       "        text-align: right;\n",
       "    }\n",
       "</style>\n",
       "<table border=\"1\" class=\"dataframe\">\n",
       "  <thead>\n",
       "    <tr style=\"text-align: right;\">\n",
       "      <th></th>\n",
       "      <th>Sex</th>\n",
       "      <th>Department</th>\n",
       "      <th>RaceDesc</th>\n",
       "      <th>Salary</th>\n",
       "      <th>PerformanceScore</th>\n",
       "    </tr>\n",
       "  </thead>\n",
       "  <tbody>\n",
       "    <tr>\n",
       "      <th>0</th>\n",
       "      <td>M</td>\n",
       "      <td>Production</td>\n",
       "      <td>White</td>\n",
       "      <td>62506</td>\n",
       "      <td>Exceeds</td>\n",
       "    </tr>\n",
       "    <tr>\n",
       "      <th>1</th>\n",
       "      <td>M</td>\n",
       "      <td>IT/IS</td>\n",
       "      <td>White</td>\n",
       "      <td>104437</td>\n",
       "      <td>Fully Meets</td>\n",
       "    </tr>\n",
       "    <tr>\n",
       "      <th>2</th>\n",
       "      <td>F</td>\n",
       "      <td>Production</td>\n",
       "      <td>White</td>\n",
       "      <td>64955</td>\n",
       "      <td>Fully Meets</td>\n",
       "    </tr>\n",
       "    <tr>\n",
       "      <th>3</th>\n",
       "      <td>F</td>\n",
       "      <td>Production</td>\n",
       "      <td>White</td>\n",
       "      <td>64991</td>\n",
       "      <td>Fully Meets</td>\n",
       "    </tr>\n",
       "    <tr>\n",
       "      <th>4</th>\n",
       "      <td>F</td>\n",
       "      <td>Production</td>\n",
       "      <td>White</td>\n",
       "      <td>50825</td>\n",
       "      <td>Fully Meets</td>\n",
       "    </tr>\n",
       "    <tr>\n",
       "      <th>...</th>\n",
       "      <td>...</td>\n",
       "      <td>...</td>\n",
       "      <td>...</td>\n",
       "      <td>...</td>\n",
       "      <td>...</td>\n",
       "    </tr>\n",
       "    <tr>\n",
       "      <th>306</th>\n",
       "      <td>M</td>\n",
       "      <td>Production</td>\n",
       "      <td>White</td>\n",
       "      <td>65893</td>\n",
       "      <td>Fully Meets</td>\n",
       "    </tr>\n",
       "    <tr>\n",
       "      <th>307</th>\n",
       "      <td>F</td>\n",
       "      <td>Production</td>\n",
       "      <td>Asian</td>\n",
       "      <td>48513</td>\n",
       "      <td>PIP</td>\n",
       "    </tr>\n",
       "    <tr>\n",
       "      <th>308</th>\n",
       "      <td>F</td>\n",
       "      <td>IT/IS</td>\n",
       "      <td>White</td>\n",
       "      <td>220450</td>\n",
       "      <td>Exceeds</td>\n",
       "    </tr>\n",
       "    <tr>\n",
       "      <th>309</th>\n",
       "      <td>F</td>\n",
       "      <td>IT/IS</td>\n",
       "      <td>White</td>\n",
       "      <td>89292</td>\n",
       "      <td>Fully Meets</td>\n",
       "    </tr>\n",
       "    <tr>\n",
       "      <th>310</th>\n",
       "      <td>F</td>\n",
       "      <td>Production</td>\n",
       "      <td>Asian</td>\n",
       "      <td>45046</td>\n",
       "      <td>Fully Meets</td>\n",
       "    </tr>\n",
       "  </tbody>\n",
       "</table>\n",
       "<p>311 rows × 5 columns</p>\n",
       "</div>"
      ],
      "text/plain": [
       "    Sex         Department RaceDesc  Salary PerformanceScore\n",
       "0    M   Production           White   62506          Exceeds\n",
       "1    M               IT/IS    White  104437      Fully Meets\n",
       "2     F  Production           White   64955      Fully Meets\n",
       "3     F  Production           White   64991      Fully Meets\n",
       "4     F  Production           White   50825      Fully Meets\n",
       "..   ..                ...      ...     ...              ...\n",
       "306  M   Production           White   65893      Fully Meets\n",
       "307   F  Production           Asian   48513              PIP\n",
       "308   F              IT/IS    White  220450          Exceeds\n",
       "309   F              IT/IS    White   89292      Fully Meets\n",
       "310   F  Production           Asian   45046      Fully Meets\n",
       "\n",
       "[311 rows x 5 columns]"
      ]
     },
     "execution_count": 30,
     "metadata": {},
     "output_type": "execute_result"
    }
   ],
   "source": [
    "df"
   ]
  },
  {
   "cell_type": "code",
   "execution_count": 31,
   "id": "4de07503",
   "metadata": {},
   "outputs": [
    {
     "data": {
      "text/plain": [
       "Sex                 0\n",
       "Department          0\n",
       "RaceDesc            0\n",
       "Salary              0\n",
       "PerformanceScore    0\n",
       "dtype: int64"
      ]
     },
     "execution_count": 31,
     "metadata": {},
     "output_type": "execute_result"
    }
   ],
   "source": [
    "df.isna().sum()"
   ]
  },
  {
   "cell_type": "code",
   "execution_count": 32,
   "id": "bacfa272",
   "metadata": {},
   "outputs": [
    {
     "data": {
      "text/plain": [
       "0"
      ]
     },
     "execution_count": 32,
     "metadata": {},
     "output_type": "execute_result"
    }
   ],
   "source": [
    "df.duplicated().sum()"
   ]
  },
  {
   "cell_type": "code",
   "execution_count": 33,
   "id": "910f13e3",
   "metadata": {},
   "outputs": [
    {
     "name": "stdout",
     "output_type": "stream",
     "text": [
      "<class 'pandas.core.frame.DataFrame'>\n",
      "RangeIndex: 311 entries, 0 to 310\n",
      "Data columns (total 5 columns):\n",
      " #   Column            Non-Null Count  Dtype \n",
      "---  ------            --------------  ----- \n",
      " 0   Sex               311 non-null    object\n",
      " 1   Department        311 non-null    object\n",
      " 2   RaceDesc          311 non-null    object\n",
      " 3   Salary            311 non-null    int64 \n",
      " 4   PerformanceScore  311 non-null    object\n",
      "dtypes: int64(1), object(4)\n",
      "memory usage: 12.3+ KB\n"
     ]
    }
   ],
   "source": [
    "df.info()"
   ]
  },
  {
   "cell_type": "code",
   "execution_count": 34,
   "id": "859d2e1d",
   "metadata": {},
   "outputs": [
    {
     "data": {
      "text/plain": [
       "count       311.000000\n",
       "mean      69020.684887\n",
       "std       25156.636930\n",
       "min       45046.000000\n",
       "25%       55501.500000\n",
       "50%       62810.000000\n",
       "75%       72036.000000\n",
       "max      250000.000000\n",
       "Name: Salary, dtype: float64"
      ]
     },
     "execution_count": 34,
     "metadata": {},
     "output_type": "execute_result"
    }
   ],
   "source": [
    "df['Salary'].describe()"
   ]
  },
  {
   "cell_type": "code",
   "execution_count": 35,
   "id": "58154a5f",
   "metadata": {},
   "outputs": [],
   "source": [
    "from sklearn.preprocessing import LabelEncoder\n",
    "labelencoder = LabelEncoder()"
   ]
  },
  {
   "cell_type": "code",
   "execution_count": 58,
   "id": "f8b0d86d",
   "metadata": {},
   "outputs": [
    {
     "name": "stderr",
     "output_type": "stream",
     "text": [
      "C:\\Users\\Admin\\AppData\\Local\\Temp\\ipykernel_31008\\3207222393.py:1: SettingWithCopyWarning: \n",
      "A value is trying to be set on a copy of a slice from a DataFrame.\n",
      "Try using .loc[row_indexer,col_indexer] = value instead\n",
      "\n",
      "See the caveats in the documentation: https://pandas.pydata.org/pandas-docs/stable/user_guide/indexing.html#returning-a-view-versus-a-copy\n",
      "  df[\"PerformanceScore\"] = labelencoder.fit_transform(df['PerformanceScore'])\n"
     ]
    }
   ],
   "source": [
    "df[\"PerformanceScore\"] = labelencoder.fit_transform(df['PerformanceScore'])"
   ]
  },
  {
   "cell_type": "code",
   "execution_count": 37,
   "id": "3194993c",
   "metadata": {},
   "outputs": [
    {
     "name": "stderr",
     "output_type": "stream",
     "text": [
      "C:\\Users\\Admin\\AppData\\Local\\Temp\\ipykernel_31008\\2184970432.py:1: SettingWithCopyWarning: \n",
      "A value is trying to be set on a copy of a slice from a DataFrame.\n",
      "Try using .loc[row_indexer,col_indexer] = value instead\n",
      "\n",
      "See the caveats in the documentation: https://pandas.pydata.org/pandas-docs/stable/user_guide/indexing.html#returning-a-view-versus-a-copy\n",
      "  df['Sex'] = labelencoder.fit_transform(df['Sex'])\n"
     ]
    }
   ],
   "source": [
    "df['Sex'] = labelencoder.fit_transform(df['Sex'])"
   ]
  },
  {
   "cell_type": "code",
   "execution_count": 38,
   "id": "6e094532",
   "metadata": {},
   "outputs": [
    {
     "data": {
      "text/html": [
       "<div>\n",
       "<style scoped>\n",
       "    .dataframe tbody tr th:only-of-type {\n",
       "        vertical-align: middle;\n",
       "    }\n",
       "\n",
       "    .dataframe tbody tr th {\n",
       "        vertical-align: top;\n",
       "    }\n",
       "\n",
       "    .dataframe thead th {\n",
       "        text-align: right;\n",
       "    }\n",
       "</style>\n",
       "<table border=\"1\" class=\"dataframe\">\n",
       "  <thead>\n",
       "    <tr style=\"text-align: right;\">\n",
       "      <th></th>\n",
       "      <th>Sex</th>\n",
       "      <th>Department</th>\n",
       "      <th>RaceDesc</th>\n",
       "      <th>Salary</th>\n",
       "      <th>PerformanceScore</th>\n",
       "    </tr>\n",
       "  </thead>\n",
       "  <tbody>\n",
       "    <tr>\n",
       "      <th>0</th>\n",
       "      <td>1</td>\n",
       "      <td>Production</td>\n",
       "      <td>White</td>\n",
       "      <td>62506</td>\n",
       "      <td>0</td>\n",
       "    </tr>\n",
       "    <tr>\n",
       "      <th>1</th>\n",
       "      <td>1</td>\n",
       "      <td>IT/IS</td>\n",
       "      <td>White</td>\n",
       "      <td>104437</td>\n",
       "      <td>1</td>\n",
       "    </tr>\n",
       "    <tr>\n",
       "      <th>2</th>\n",
       "      <td>0</td>\n",
       "      <td>Production</td>\n",
       "      <td>White</td>\n",
       "      <td>64955</td>\n",
       "      <td>1</td>\n",
       "    </tr>\n",
       "    <tr>\n",
       "      <th>3</th>\n",
       "      <td>0</td>\n",
       "      <td>Production</td>\n",
       "      <td>White</td>\n",
       "      <td>64991</td>\n",
       "      <td>1</td>\n",
       "    </tr>\n",
       "    <tr>\n",
       "      <th>4</th>\n",
       "      <td>0</td>\n",
       "      <td>Production</td>\n",
       "      <td>White</td>\n",
       "      <td>50825</td>\n",
       "      <td>1</td>\n",
       "    </tr>\n",
       "    <tr>\n",
       "      <th>...</th>\n",
       "      <td>...</td>\n",
       "      <td>...</td>\n",
       "      <td>...</td>\n",
       "      <td>...</td>\n",
       "      <td>...</td>\n",
       "    </tr>\n",
       "    <tr>\n",
       "      <th>306</th>\n",
       "      <td>1</td>\n",
       "      <td>Production</td>\n",
       "      <td>White</td>\n",
       "      <td>65893</td>\n",
       "      <td>1</td>\n",
       "    </tr>\n",
       "    <tr>\n",
       "      <th>307</th>\n",
       "      <td>0</td>\n",
       "      <td>Production</td>\n",
       "      <td>Asian</td>\n",
       "      <td>48513</td>\n",
       "      <td>3</td>\n",
       "    </tr>\n",
       "    <tr>\n",
       "      <th>308</th>\n",
       "      <td>0</td>\n",
       "      <td>IT/IS</td>\n",
       "      <td>White</td>\n",
       "      <td>220450</td>\n",
       "      <td>0</td>\n",
       "    </tr>\n",
       "    <tr>\n",
       "      <th>309</th>\n",
       "      <td>0</td>\n",
       "      <td>IT/IS</td>\n",
       "      <td>White</td>\n",
       "      <td>89292</td>\n",
       "      <td>1</td>\n",
       "    </tr>\n",
       "    <tr>\n",
       "      <th>310</th>\n",
       "      <td>0</td>\n",
       "      <td>Production</td>\n",
       "      <td>Asian</td>\n",
       "      <td>45046</td>\n",
       "      <td>1</td>\n",
       "    </tr>\n",
       "  </tbody>\n",
       "</table>\n",
       "<p>311 rows × 5 columns</p>\n",
       "</div>"
      ],
      "text/plain": [
       "     Sex         Department RaceDesc  Salary  PerformanceScore\n",
       "0      1  Production           White   62506                 0\n",
       "1      1              IT/IS    White  104437                 1\n",
       "2      0  Production           White   64955                 1\n",
       "3      0  Production           White   64991                 1\n",
       "4      0  Production           White   50825                 1\n",
       "..   ...                ...      ...     ...               ...\n",
       "306    1  Production           White   65893                 1\n",
       "307    0  Production           Asian   48513                 3\n",
       "308    0              IT/IS    White  220450                 0\n",
       "309    0              IT/IS    White   89292                 1\n",
       "310    0  Production           Asian   45046                 1\n",
       "\n",
       "[311 rows x 5 columns]"
      ]
     },
     "execution_count": 38,
     "metadata": {},
     "output_type": "execute_result"
    }
   ],
   "source": [
    "df"
   ]
  },
  {
   "cell_type": "code",
   "execution_count": 59,
   "id": "10855411",
   "metadata": {},
   "outputs": [
    {
     "name": "stderr",
     "output_type": "stream",
     "text": [
      "C:\\Users\\Admin\\AppData\\Local\\Temp\\ipykernel_31008\\3663546585.py:1: SettingWithCopyWarning: \n",
      "A value is trying to be set on a copy of a slice from a DataFrame.\n",
      "Try using .loc[row_indexer,col_indexer] = value instead\n",
      "\n",
      "See the caveats in the documentation: https://pandas.pydata.org/pandas-docs/stable/user_guide/indexing.html#returning-a-view-versus-a-copy\n",
      "  df['Department'] = labelencoder.fit_transform(df['Department'])\n",
      "C:\\Users\\Admin\\AppData\\Local\\Temp\\ipykernel_31008\\3663546585.py:2: SettingWithCopyWarning: \n",
      "A value is trying to be set on a copy of a slice from a DataFrame.\n",
      "Try using .loc[row_indexer,col_indexer] = value instead\n",
      "\n",
      "See the caveats in the documentation: https://pandas.pydata.org/pandas-docs/stable/user_guide/indexing.html#returning-a-view-versus-a-copy\n",
      "  df['RaceDesc'] = labelencoder.fit_transform(df['RaceDesc'])\n"
     ]
    }
   ],
   "source": [
    "df['Department'] = labelencoder.fit_transform(df['Department'])\n",
    "df['RaceDesc'] = labelencoder.fit_transform(df['RaceDesc'])"
   ]
  },
  {
   "cell_type": "code",
   "execution_count": 40,
   "id": "ec6d383b",
   "metadata": {},
   "outputs": [
    {
     "data": {
      "text/html": [
       "<div>\n",
       "<style scoped>\n",
       "    .dataframe tbody tr th:only-of-type {\n",
       "        vertical-align: middle;\n",
       "    }\n",
       "\n",
       "    .dataframe tbody tr th {\n",
       "        vertical-align: top;\n",
       "    }\n",
       "\n",
       "    .dataframe thead th {\n",
       "        text-align: right;\n",
       "    }\n",
       "</style>\n",
       "<table border=\"1\" class=\"dataframe\">\n",
       "  <thead>\n",
       "    <tr style=\"text-align: right;\">\n",
       "      <th></th>\n",
       "      <th>Sex</th>\n",
       "      <th>Department</th>\n",
       "      <th>RaceDesc</th>\n",
       "      <th>Salary</th>\n",
       "      <th>PerformanceScore</th>\n",
       "    </tr>\n",
       "  </thead>\n",
       "  <tbody>\n",
       "    <tr>\n",
       "      <th>0</th>\n",
       "      <td>1</td>\n",
       "      <td>3</td>\n",
       "      <td>White</td>\n",
       "      <td>62506</td>\n",
       "      <td>0</td>\n",
       "    </tr>\n",
       "    <tr>\n",
       "      <th>1</th>\n",
       "      <td>1</td>\n",
       "      <td>2</td>\n",
       "      <td>White</td>\n",
       "      <td>104437</td>\n",
       "      <td>1</td>\n",
       "    </tr>\n",
       "    <tr>\n",
       "      <th>2</th>\n",
       "      <td>0</td>\n",
       "      <td>3</td>\n",
       "      <td>White</td>\n",
       "      <td>64955</td>\n",
       "      <td>1</td>\n",
       "    </tr>\n",
       "    <tr>\n",
       "      <th>3</th>\n",
       "      <td>0</td>\n",
       "      <td>3</td>\n",
       "      <td>White</td>\n",
       "      <td>64991</td>\n",
       "      <td>1</td>\n",
       "    </tr>\n",
       "    <tr>\n",
       "      <th>4</th>\n",
       "      <td>0</td>\n",
       "      <td>3</td>\n",
       "      <td>White</td>\n",
       "      <td>50825</td>\n",
       "      <td>1</td>\n",
       "    </tr>\n",
       "    <tr>\n",
       "      <th>...</th>\n",
       "      <td>...</td>\n",
       "      <td>...</td>\n",
       "      <td>...</td>\n",
       "      <td>...</td>\n",
       "      <td>...</td>\n",
       "    </tr>\n",
       "    <tr>\n",
       "      <th>306</th>\n",
       "      <td>1</td>\n",
       "      <td>3</td>\n",
       "      <td>White</td>\n",
       "      <td>65893</td>\n",
       "      <td>1</td>\n",
       "    </tr>\n",
       "    <tr>\n",
       "      <th>307</th>\n",
       "      <td>0</td>\n",
       "      <td>3</td>\n",
       "      <td>Asian</td>\n",
       "      <td>48513</td>\n",
       "      <td>3</td>\n",
       "    </tr>\n",
       "    <tr>\n",
       "      <th>308</th>\n",
       "      <td>0</td>\n",
       "      <td>2</td>\n",
       "      <td>White</td>\n",
       "      <td>220450</td>\n",
       "      <td>0</td>\n",
       "    </tr>\n",
       "    <tr>\n",
       "      <th>309</th>\n",
       "      <td>0</td>\n",
       "      <td>2</td>\n",
       "      <td>White</td>\n",
       "      <td>89292</td>\n",
       "      <td>1</td>\n",
       "    </tr>\n",
       "    <tr>\n",
       "      <th>310</th>\n",
       "      <td>0</td>\n",
       "      <td>3</td>\n",
       "      <td>Asian</td>\n",
       "      <td>45046</td>\n",
       "      <td>1</td>\n",
       "    </tr>\n",
       "  </tbody>\n",
       "</table>\n",
       "<p>311 rows × 5 columns</p>\n",
       "</div>"
      ],
      "text/plain": [
       "     Sex  Department RaceDesc  Salary  PerformanceScore\n",
       "0      1           3    White   62506                 0\n",
       "1      1           2    White  104437                 1\n",
       "2      0           3    White   64955                 1\n",
       "3      0           3    White   64991                 1\n",
       "4      0           3    White   50825                 1\n",
       "..   ...         ...      ...     ...               ...\n",
       "306    1           3    White   65893                 1\n",
       "307    0           3    Asian   48513                 3\n",
       "308    0           2    White  220450                 0\n",
       "309    0           2    White   89292                 1\n",
       "310    0           3    Asian   45046                 1\n",
       "\n",
       "[311 rows x 5 columns]"
      ]
     },
     "execution_count": 40,
     "metadata": {},
     "output_type": "execute_result"
    }
   ],
   "source": [
    "df"
   ]
  },
  {
   "cell_type": "code",
   "execution_count": 41,
   "id": "ad264d05",
   "metadata": {},
   "outputs": [
    {
     "name": "stderr",
     "output_type": "stream",
     "text": [
      "C:\\Users\\Admin\\AppData\\Local\\Temp\\ipykernel_31008\\1206574192.py:1: FutureWarning: The default value of numeric_only in DataFrame.corr is deprecated. In a future version, it will default to False. Select only valid columns or specify the value of numeric_only to silence this warning.\n",
      "  df.corr()['PerformanceScore'].sort_values(ascending = True)\n"
     ]
    },
    {
     "data": {
      "text/plain": [
       "Salary             -0.125138\n",
       "Sex                 0.054915\n",
       "Department          0.057614\n",
       "PerformanceScore    1.000000\n",
       "Name: PerformanceScore, dtype: float64"
      ]
     },
     "execution_count": 41,
     "metadata": {},
     "output_type": "execute_result"
    }
   ],
   "source": [
    "df.corr()['PerformanceScore'].sort_values(ascending = True)"
   ]
  },
  {
   "cell_type": "code",
   "execution_count": 42,
   "id": "61ca0845",
   "metadata": {},
   "outputs": [
    {
     "name": "stderr",
     "output_type": "stream",
     "text": [
      "C:\\Users\\Admin\\AppData\\Local\\Temp\\ipykernel_31008\\3595127162.py:1: FutureWarning: The default value of numeric_only in DataFrame.corr is deprecated. In a future version, it will default to False. Select only valid columns or specify the value of numeric_only to silence this warning.\n",
      "  sns.heatmap(data = df.corr(),annot = True)\n"
     ]
    },
    {
     "data": {
      "text/plain": [
       "<AxesSubplot: >"
      ]
     },
     "execution_count": 42,
     "metadata": {},
     "output_type": "execute_result"
    },
    {
     "data": {
      "image/png": "[encoded data removed]",
      "text/plain": [
       "<Figure size 2000x1000 with 2 Axes>"
      ]
     },
     "metadata": {},
     "output_type": "display_data"
    }
   ],
   "source": [
    "sns.heatmap(data = df.corr(),annot = True)"
   ]
  },
  {
   "cell_type": "code",
   "execution_count": 60,
   "id": "8aa492e7",
   "metadata": {},
   "outputs": [
    {
     "data": {
      "text/plain": [
       "Index(['Sex', 'Department', 'RaceDesc', 'Salary', 'PerformanceScore'], dtype='object')"
      ]
     },
     "execution_count": 60,
     "metadata": {},
     "output_type": "execute_result"
    }
   ],
   "source": [
    "df.columns"
   ]
  },
  {
   "cell_type": "code",
   "execution_count": 61,
   "id": "9b9d98a8",
   "metadata": {},
   "outputs": [],
   "source": [
    "X = df[['Sex','Department','RaceDesc','Salary']]\n",
    "y = df['PerformanceScore']"
   ]
  },
  {
   "cell_type": "code",
   "execution_count": 62,
   "id": "0f1431c5",
   "metadata": {},
   "outputs": [],
   "source": [
    "from sklearn.model_selection import train_test_split\n",
    "X_train,X_test,y_train,y_test = train_test_split(X,y,test_size = 0.3)"
   ]
  },
  {
   "cell_type": "code",
   "execution_count": 63,
   "id": "12a4b271",
   "metadata": {},
   "outputs": [],
   "source": [
    "from sklearn.preprocessing import StandardScaler\n",
    "scaler = StandardScaler()\n",
    "scaled_X_train = scaler.fit_transform(X_train)\n",
    "scaled_X_test = scaler.fit_transform(X_test)"
   ]
  },
  {
   "cell_type": "code",
   "execution_count": 64,
   "id": "09f4fb8f",
   "metadata": {},
   "outputs": [],
   "source": [
    "from sklearn.metrics import accuracy_score"
   ]
  },
  {
   "cell_type": "code",
   "execution_count": 65,
   "id": "fd3e8a3a",
   "metadata": {},
   "outputs": [],
   "source": [
    "def modeflresults(predictions):\n",
    "    print(f'Accuray score of the model is {accuracy_score(y_test,predictions)}')"
   ]
  },
  {
   "cell_type": "code",
   "execution_count": 66,
   "id": "4843bdf5",
   "metadata": {},
   "outputs": [],
   "source": [
    "from sklearn.linear_model import LogisticRegression \n",
    "log_model = LogisticRegression()\n",
    "log_model.fit(scaled_X_train,y_train)\n",
    "log_predictions = log_model.predict(scaled_X_test)"
   ]
  },
  {
   "cell_type": "code",
   "execution_count": 67,
   "id": "95726960",
   "metadata": {},
   "outputs": [
    {
     "name": "stdout",
     "output_type": "stream",
     "text": [
      "Accuray score of the model is 0.776595744680851\n"
     ]
    }
   ],
   "source": [
    "modeflresults(log_predictions)"
   ]
  },
  {
   "cell_type": "code",
   "execution_count": 68,
   "id": "9f8caec2",
   "metadata": {},
   "outputs": [],
   "source": [
    "from sklearn.neighbors import KNeighborsClassifier\n",
    "from sklearn.model_selection import GridSearchCV\n",
    "from sklearn.pipeline import Pipeline\n"
   ]
  },
  {
   "cell_type": "code",
   "execution_count": 69,
   "id": "9f658109",
   "metadata": {},
   "outputs": [
    {
     "data": {
      "text/html": [
       "<style>#sk-container-id-1 {color: black;background-color: white;}#sk-container-id-1 pre{padding: 0;}#sk-container-id-1 div.sk-toggleable {background-color: white;}#sk-container-id-1 label.sk-toggleable__label {cursor: pointer;display: block;width: 100%;margin-bottom: 0;padding: 0.3em;box-sizing: border-box;text-align: center;}#sk-container-id-1 label.sk-toggleable__label-arrow:before {content: \"▸\";float: left;margin-right: 0.25em;color: #696969;}#sk-container-id-1 label.sk-toggleable__label-arrow:hover:before {color: black;}#sk-container-id-1 div.sk-estimator:hover label.sk-toggleable__label-arrow:before {color: black;}#sk-container-id-1 div.sk-toggleable__content {max-height: 0;max-width: 0;overflow: hidden;text-align: left;background-color: #f0f8ff;}#sk-container-id-1 div.sk-toggleable__content pre {margin: 0.2em;color: black;border-radius: 0.25em;background-color: #f0f8ff;}#sk-container-id-1 input.sk-toggleable__control:checked~div.sk-toggleable__content {max-height: 200px;max-width: 100%;overflow: auto;}#sk-container-id-1 input.sk-toggleable__control:checked~label.sk-toggleable__label-arrow:before {content: \"▾\";}#sk-container-id-1 div.sk-estimator input.sk-toggleable__control:checked~label.sk-toggleable__label {background-color: #d4ebff;}#sk-container-id-1 div.sk-label input.sk-toggleable__control:checked~label.sk-toggleable__label {background-color: #d4ebff;}#sk-container-id-1 input.sk-hidden--visually {border: 0;clip: rect(1px 1px 1px 1px);clip: rect(1px, 1px, 1px, 1px);height: 1px;margin: -1px;overflow: hidden;padding: 0;position: absolute;width: 1px;}#sk-container-id-1 div.sk-estimator {font-family: monospace;background-color: #f0f8ff;border: 1px dotted black;border-radius: 0.25em;box-sizing: border-box;margin-bottom: 0.5em;}#sk-container-id-1 div.sk-estimator:hover {background-color: #d4ebff;}#sk-container-id-1 div.sk-parallel-item::after {content: \"\";width: 100%;border-bottom: 1px solid gray;flex-grow: 1;}#sk-container-id-1 div.sk-label:hover label.sk-toggleable__label {background-color: #d4ebff;}#sk-container-id-1 div.sk-serial::before {content: \"\";position: absolute;border-left: 1px solid gray;box-sizing: border-box;top: 0;bottom: 0;left: 50%;z-index: 0;}#sk-container-id-1 div.sk-serial {display: flex;flex-direction: column;align-items: center;background-color: white;padding-right: 0.2em;padding-left: 0.2em;position: relative;}#sk-container-id-1 div.sk-item {position: relative;z-index: 1;}#sk-container-id-1 div.sk-parallel {display: flex;align-items: stretch;justify-content: center;background-color: white;position: relative;}#sk-container-id-1 div.sk-item::before, #sk-container-id-1 div.sk-parallel-item::before {content: \"\";position: absolute;border-left: 1px solid gray;box-sizing: border-box;top: 0;bottom: 0;left: 50%;z-index: -1;}#sk-container-id-1 div.sk-parallel-item {display: flex;flex-direction: column;z-index: 1;position: relative;background-color: white;}#sk-container-id-1 div.sk-parallel-item:first-child::after {align-self: flex-end;width: 50%;}#sk-container-id-1 div.sk-parallel-item:last-child::after {align-self: flex-start;width: 50%;}#sk-container-id-1 div.sk-parallel-item:only-child::after {width: 0;}#sk-container-id-1 div.sk-dashed-wrapped {border: 1px dashed gray;margin: 0 0.4em 0.5em 0.4em;box-sizing: border-box;padding-bottom: 0.4em;background-color: white;}#sk-container-id-1 div.sk-label label {font-family: monospace;font-weight: bold;display: inline-block;line-height: 1.2em;}#sk-container-id-1 div.sk-label-container {text-align: center;}#sk-container-id-1 div.sk-container {/* jupyter's `normalize.less` sets `[hidden] { display: none; }` but bootstrap.min.css set `[hidden] { display: none !important; }` so we also need the `!important` here to be able to override the default hidden behavior on the sphinx rendered scikit-learn.org. See: https://github.com/scikit-learn/scikit-learn/issues/21755 */display: inline-block !important;position: relative;}#sk-container-id-1 div.sk-text-repr-fallback {display: none;}</style><div id=\"sk-container-id-1\" class=\"sk-top-container\"><div class=\"sk-text-repr-fallback\"><pre>GridSearchCV(cv=5, estimator=Pipeline(steps=[(&#x27;knn&#x27;, KNeighborsClassifier())]),\n",
       "             param_grid={&#x27;knn__n_neighbors&#x27;: [1, 2, 3, 4, 5, 6, 7, 8, 9, 10, 11,\n",
       "                                              12, 13, 14, 15, 16, 17, 18, 19,\n",
       "                                              20, 21, 22, 23, 24, 25, 26, 27,\n",
       "                                              28, 29]},\n",
       "             scoring=&#x27;accuracy&#x27;)</pre><b>In a Jupyter environment, please rerun this cell to show the HTML representation or trust the notebook. <br />On GitHub, the HTML representation is unable to render, please try loading this page with nbviewer.org.</b></div><div class=\"sk-container\" hidden><div class=\"sk-item sk-dashed-wrapped\"><div class=\"sk-label-container\"><div class=\"sk-label sk-toggleable\"><input class=\"sk-toggleable__control sk-hidden--visually\" id=\"sk-estimator-id-1\" type=\"checkbox\" ><label for=\"sk-estimator-id-1\" class=\"sk-toggleable__label sk-toggleable__label-arrow\">GridSearchCV</label><div class=\"sk-toggleable__content\"><pre>GridSearchCV(cv=5, estimator=Pipeline(steps=[(&#x27;knn&#x27;, KNeighborsClassifier())]),\n",
       "             param_grid={&#x27;knn__n_neighbors&#x27;: [1, 2, 3, 4, 5, 6, 7, 8, 9, 10, 11,\n",
       "                                              12, 13, 14, 15, 16, 17, 18, 19,\n",
       "                                              20, 21, 22, 23, 24, 25, 26, 27,\n",
       "                                              28, 29]},\n",
       "             scoring=&#x27;accuracy&#x27;)</pre></div></div></div><div class=\"sk-parallel\"><div class=\"sk-parallel-item\"><div class=\"sk-item\"><div class=\"sk-label-container\"><div class=\"sk-label sk-toggleable\"><input class=\"sk-toggleable__control sk-hidden--visually\" id=\"sk-estimator-id-2\" type=\"checkbox\" ><label for=\"sk-estimator-id-2\" class=\"sk-toggleable__label sk-toggleable__label-arrow\">estimator: Pipeline</label><div class=\"sk-toggleable__content\"><pre>Pipeline(steps=[(&#x27;knn&#x27;, KNeighborsClassifier())])</pre></div></div></div><div class=\"sk-serial\"><div class=\"sk-item\"><div class=\"sk-serial\"><div class=\"sk-item\"><div class=\"sk-estimator sk-toggleable\"><input class=\"sk-toggleable__control sk-hidden--visually\" id=\"sk-estimator-id-3\" type=\"checkbox\" ><label for=\"sk-estimator-id-3\" class=\"sk-toggleable__label sk-toggleable__label-arrow\">KNeighborsClassifier</label><div class=\"sk-toggleable__content\"><pre>KNeighborsClassifier()</pre></div></div></div></div></div></div></div></div></div></div></div></div>"
      ],
      "text/plain": [
       "GridSearchCV(cv=5, estimator=Pipeline(steps=[('knn', KNeighborsClassifier())]),\n",
       "             param_grid={'knn__n_neighbors': [1, 2, 3, 4, 5, 6, 7, 8, 9, 10, 11,\n",
       "                                              12, 13, 14, 15, 16, 17, 18, 19,\n",
       "                                              20, 21, 22, 23, 24, 25, 26, 27,\n",
       "                                              28, 29]},\n",
       "             scoring='accuracy')"
      ]
     },
     "execution_count": 69,
     "metadata": {},
     "output_type": "execute_result"
    }
   ],
   "source": [
    "knn = KNeighborsClassifier()\n",
    "k_values = list(range(1,30))\n",
    "pipe = Pipeline(steps = [('knn',knn)])\n",
    "param_grid = {'knn__n_neighbors':k_values}\n",
    "cv_classifier = GridSearchCV(pipe,param_grid, cv = 5, scoring = 'accuracy')\n",
    "cv_classifier.fit(scaled_X_train,y_train)"
   ]
  },
  {
   "cell_type": "code",
   "execution_count": 74,
   "id": "9fde084e",
   "metadata": {},
   "outputs": [
    {
     "name": "stdout",
     "output_type": "stream",
     "text": [
      "{'knn__n_neighbors': 6}\n"
     ]
    }
   ],
   "source": [
    "print(cv_classifier.best_params_)"
   ]
  },
  {
   "cell_type": "code",
   "execution_count": 71,
   "id": "5de0f4b5",
   "metadata": {},
   "outputs": [],
   "source": [
    "pred_gridknn = cv_classifier.predict(scaled_X_test)"
   ]
  },
  {
   "cell_type": "code",
   "execution_count": 77,
   "id": "e4f7d0cc",
   "metadata": {},
   "outputs": [
    {
     "name": "stdout",
     "output_type": "stream",
     "text": [
      "Accuray score of the model is 0.7659574468085106\n"
     ]
    }
   ],
   "source": [
    "modeflresults(pred_gridknn)"
   ]
  },
  {
   "cell_type": "code",
   "execution_count": 78,
   "id": "53529b0b",
   "metadata": {},
   "outputs": [],
   "source": [
    "from sklearn.svm import SVC\n",
    "svm = SVC()\n",
    "param_grid_svr = {'C':[0.01,0.1,0.5,1], 'kernel':['linear','rbf','poly']}\n",
    "gridsvr = GridSearchCV(svm,param_grid_svr)"
   ]
  },
  {
   "cell_type": "code",
   "execution_count": 79,
   "id": "281c3de2",
   "metadata": {},
   "outputs": [],
   "source": [
    "gridsvr.fit(scaled_X_train,y_train)\n",
    "pred_svr = gridsvr.predict(scaled_X_test)"
   ]
  },
  {
   "cell_type": "code",
   "execution_count": 80,
   "id": "88faeffe",
   "metadata": {},
   "outputs": [
    {
     "name": "stdout",
     "output_type": "stream",
     "text": [
      "Accuray score of the model is 0.776595744680851\n"
     ]
    }
   ],
   "source": [
    "modeflresults(pred_svr)"
   ]
  },
  {
   "cell_type": "code",
   "execution_count": 87,
   "id": "8234e9ac",
   "metadata": {},
   "outputs": [],
   "source": [
    "from sklearn.ensemble import RandomForestClassifier\n",
    "rfr_model = RandomForestClassifier()\n",
    "n_estimators = [32,64,128,256]\n",
    "max_features = [2,3,4]\n",
    "bootstrap = [True,False]\n",
    "oob_score = [True,False]\n",
    "param_grid_rfr = {'n_estimators':n_estimators,\"max_features\":max_features,'bootstrap':bootstrap,'oob_score':oob_score}"
   ]
  },
  {
   "cell_type": "code",
   "execution_count": 90,
   "id": "4afeed1d",
   "metadata": {},
   "outputs": [
    {
     "name": "stderr",
     "output_type": "stream",
     "text": [
      "C:\\ProgramData\\anaconda3\\lib\\site-packages\\sklearn\\model_selection\\_validation.py:378: FitFailedWarning: \n",
      "60 fits failed out of a total of 240.\n",
      "The score on these train-test partitions for these parameters will be set to nan.\n",
      "If these failures are not expected, you can try to debug them by setting error_score='raise'.\n",
      "\n",
      "Below are more details about the failures:\n",
      "--------------------------------------------------------------------------------\n",
      "60 fits failed with the following error:\n",
      "Traceback (most recent call last):\n",
      "  File \"C:\\ProgramData\\anaconda3\\lib\\site-packages\\sklearn\\model_selection\\_validation.py\", line 686, in _fit_and_score\n",
      "    estimator.fit(X_train, y_train, **fit_params)\n",
      "  File \"C:\\ProgramData\\anaconda3\\lib\\site-packages\\sklearn\\ensemble\\_forest.py\", line 434, in fit\n",
      "    raise ValueError(\"Out of bag estimation only available if bootstrap=True\")\n",
      "ValueError: Out of bag estimation only available if bootstrap=True\n",
      "\n",
      "  warnings.warn(some_fits_failed_message, FitFailedWarning)\n",
      "C:\\ProgramData\\anaconda3\\lib\\site-packages\\sklearn\\model_selection\\_search.py:952: UserWarning: One or more of the test scores are non-finite: [0.67262156 0.69587738 0.68678647 0.68678647 0.69133192 0.69577167\n",
      " 0.69133192 0.69133192 0.70951374 0.68636364 0.68657505 0.70496829\n",
      " 0.68657505 0.70031712 0.70475687 0.70031712 0.70475687 0.68181818\n",
      " 0.69545455 0.70486258 0.69534884 0.70475687 0.69556025 0.68615222\n",
      "        nan 0.66353066        nan 0.67283298        nan 0.67272727\n",
      "        nan 0.65887949        nan 0.63572939        nan 0.62653277\n",
      "        nan 0.644926          nan 0.63107822        nan 0.60359408\n",
      "        nan 0.60348837        nan 0.60813953        nan 0.59904863]\n",
      "  warnings.warn(\n"
     ]
    },
    {
     "data": {
      "text/html": [
       "<style>#sk-container-id-2 {color: black;background-color: white;}#sk-container-id-2 pre{padding: 0;}#sk-container-id-2 div.sk-toggleable {background-color: white;}#sk-container-id-2 label.sk-toggleable__label {cursor: pointer;display: block;width: 100%;margin-bottom: 0;padding: 0.3em;box-sizing: border-box;text-align: center;}#sk-container-id-2 label.sk-toggleable__label-arrow:before {content: \"▸\";float: left;margin-right: 0.25em;color: #696969;}#sk-container-id-2 label.sk-toggleable__label-arrow:hover:before {color: black;}#sk-container-id-2 div.sk-estimator:hover label.sk-toggleable__label-arrow:before {color: black;}#sk-container-id-2 div.sk-toggleable__content {max-height: 0;max-width: 0;overflow: hidden;text-align: left;background-color: #f0f8ff;}#sk-container-id-2 div.sk-toggleable__content pre {margin: 0.2em;color: black;border-radius: 0.25em;background-color: #f0f8ff;}#sk-container-id-2 input.sk-toggleable__control:checked~div.sk-toggleable__content {max-height: 200px;max-width: 100%;overflow: auto;}#sk-container-id-2 input.sk-toggleable__control:checked~label.sk-toggleable__label-arrow:before {content: \"▾\";}#sk-container-id-2 div.sk-estimator input.sk-toggleable__control:checked~label.sk-toggleable__label {background-color: #d4ebff;}#sk-container-id-2 div.sk-label input.sk-toggleable__control:checked~label.sk-toggleable__label {background-color: #d4ebff;}#sk-container-id-2 input.sk-hidden--visually {border: 0;clip: rect(1px 1px 1px 1px);clip: rect(1px, 1px, 1px, 1px);height: 1px;margin: -1px;overflow: hidden;padding: 0;position: absolute;width: 1px;}#sk-container-id-2 div.sk-estimator {font-family: monospace;background-color: #f0f8ff;border: 1px dotted black;border-radius: 0.25em;box-sizing: border-box;margin-bottom: 0.5em;}#sk-container-id-2 div.sk-estimator:hover {background-color: #d4ebff;}#sk-container-id-2 div.sk-parallel-item::after {content: \"\";width: 100%;border-bottom: 1px solid gray;flex-grow: 1;}#sk-container-id-2 div.sk-label:hover label.sk-toggleable__label {background-color: #d4ebff;}#sk-container-id-2 div.sk-serial::before {content: \"\";position: absolute;border-left: 1px solid gray;box-sizing: border-box;top: 0;bottom: 0;left: 50%;z-index: 0;}#sk-container-id-2 div.sk-serial {display: flex;flex-direction: column;align-items: center;background-color: white;padding-right: 0.2em;padding-left: 0.2em;position: relative;}#sk-container-id-2 div.sk-item {position: relative;z-index: 1;}#sk-container-id-2 div.sk-parallel {display: flex;align-items: stretch;justify-content: center;background-color: white;position: relative;}#sk-container-id-2 div.sk-item::before, #sk-container-id-2 div.sk-parallel-item::before {content: \"\";position: absolute;border-left: 1px solid gray;box-sizing: border-box;top: 0;bottom: 0;left: 50%;z-index: -1;}#sk-container-id-2 div.sk-parallel-item {display: flex;flex-direction: column;z-index: 1;position: relative;background-color: white;}#sk-container-id-2 div.sk-parallel-item:first-child::after {align-self: flex-end;width: 50%;}#sk-container-id-2 div.sk-parallel-item:last-child::after {align-self: flex-start;width: 50%;}#sk-container-id-2 div.sk-parallel-item:only-child::after {width: 0;}#sk-container-id-2 div.sk-dashed-wrapped {border: 1px dashed gray;margin: 0 0.4em 0.5em 0.4em;box-sizing: border-box;padding-bottom: 0.4em;background-color: white;}#sk-container-id-2 div.sk-label label {font-family: monospace;font-weight: bold;display: inline-block;line-height: 1.2em;}#sk-container-id-2 div.sk-label-container {text-align: center;}#sk-container-id-2 div.sk-container {/* jupyter's `normalize.less` sets `[hidden] { display: none; }` but bootstrap.min.css set `[hidden] { display: none !important; }` so we also need the `!important` here to be able to override the default hidden behavior on the sphinx rendered scikit-learn.org. See: https://github.com/scikit-learn/scikit-learn/issues/21755 */display: inline-block !important;position: relative;}#sk-container-id-2 div.sk-text-repr-fallback {display: none;}</style><div id=\"sk-container-id-2\" class=\"sk-top-container\"><div class=\"sk-text-repr-fallback\"><pre>GridSearchCV(estimator=RandomForestClassifier(),\n",
       "             param_grid={&#x27;bootstrap&#x27;: [True, False], &#x27;max_features&#x27;: [2, 3, 4],\n",
       "                         &#x27;n_estimators&#x27;: [32, 64, 128, 256],\n",
       "                         &#x27;oob_score&#x27;: [True, False]})</pre><b>In a Jupyter environment, please rerun this cell to show the HTML representation or trust the notebook. <br />On GitHub, the HTML representation is unable to render, please try loading this page with nbviewer.org.</b></div><div class=\"sk-container\" hidden><div class=\"sk-item sk-dashed-wrapped\"><div class=\"sk-label-container\"><div class=\"sk-label sk-toggleable\"><input class=\"sk-toggleable__control sk-hidden--visually\" id=\"sk-estimator-id-4\" type=\"checkbox\" ><label for=\"sk-estimator-id-4\" class=\"sk-toggleable__label sk-toggleable__label-arrow\">GridSearchCV</label><div class=\"sk-toggleable__content\"><pre>GridSearchCV(estimator=RandomForestClassifier(),\n",
       "             param_grid={&#x27;bootstrap&#x27;: [True, False], &#x27;max_features&#x27;: [2, 3, 4],\n",
       "                         &#x27;n_estimators&#x27;: [32, 64, 128, 256],\n",
       "                         &#x27;oob_score&#x27;: [True, False]})</pre></div></div></div><div class=\"sk-parallel\"><div class=\"sk-parallel-item\"><div class=\"sk-item\"><div class=\"sk-label-container\"><div class=\"sk-label sk-toggleable\"><input class=\"sk-toggleable__control sk-hidden--visually\" id=\"sk-estimator-id-5\" type=\"checkbox\" ><label for=\"sk-estimator-id-5\" class=\"sk-toggleable__label sk-toggleable__label-arrow\">estimator: RandomForestClassifier</label><div class=\"sk-toggleable__content\"><pre>RandomForestClassifier()</pre></div></div></div><div class=\"sk-serial\"><div class=\"sk-item\"><div class=\"sk-estimator sk-toggleable\"><input class=\"sk-toggleable__control sk-hidden--visually\" id=\"sk-estimator-id-6\" type=\"checkbox\" ><label for=\"sk-estimator-id-6\" class=\"sk-toggleable__label sk-toggleable__label-arrow\">RandomForestClassifier</label><div class=\"sk-toggleable__content\"><pre>RandomForestClassifier()</pre></div></div></div></div></div></div></div></div></div></div>"
      ],
      "text/plain": [
       "GridSearchCV(estimator=RandomForestClassifier(),\n",
       "             param_grid={'bootstrap': [True, False], 'max_features': [2, 3, 4],\n",
       "                         'n_estimators': [32, 64, 128, 256],\n",
       "                         'oob_score': [True, False]})"
      ]
     },
     "execution_count": 90,
     "metadata": {},
     "output_type": "execute_result"
    }
   ],
   "source": [
    "gridrfr = GridSearchCV(rfr_model,param_grid_rfr)\n",
    "gridrfr.fit(scaled_X_train,y_train)"
   ]
  },
  {
   "cell_type": "code",
   "execution_count": 91,
   "id": "5d39ce2f",
   "metadata": {},
   "outputs": [
    {
     "name": "stdout",
     "output_type": "stream",
     "text": [
      "{'bootstrap': True, 'max_features': 3, 'n_estimators': 32, 'oob_score': True}\n"
     ]
    }
   ],
   "source": [
    "print(gridrfr.best_params_)"
   ]
  },
  {
   "cell_type": "code",
   "execution_count": 92,
   "id": "b2f77280",
   "metadata": {},
   "outputs": [
    {
     "name": "stderr",
     "output_type": "stream",
     "text": [
      "C:\\ProgramData\\anaconda3\\lib\\site-packages\\sklearn\\ensemble\\_forest.py:583: UserWarning: Some inputs do not have OOB scores. This probably means too few trees were used to compute any reliable OOB estimates.\n",
      "  warn(\n"
     ]
    }
   ],
   "source": [
    "rfc = RandomForestClassifier(max_features = 3,n_estimators= 3 ,oob_score =True)\n",
    "rfc.fit(scaled_X_train,y_train)\n",
    "predsrfc = rfc.predict(scaled_X_test)"
   ]
  },
  {
   "cell_type": "code",
   "execution_count": 94,
   "id": "e97bd6c4",
   "metadata": {},
   "outputs": [
    {
     "name": "stdout",
     "output_type": "stream",
     "text": [
      "Accuray score of the model is 0.6595744680851063\n"
     ]
    }
   ],
   "source": [
    "modeflresults(predsrfc)"
   ]
  },
  {
   "cell_type": "code",
   "execution_count": 95,
   "id": "b01ac4bf",
   "metadata": {},
   "outputs": [
    {
     "name": "stdout",
     "output_type": "stream",
     "text": [
      "     Sex  Department  RaceDesc  Salary\n",
      "0      1           3         5   62506\n",
      "1      1           2         5  104437\n",
      "2      0           3         5   64955\n",
      "3      0           3         5   64991\n",
      "4      0           3         5   50825\n",
      "..   ...         ...       ...     ...\n",
      "306    1           3         5   65893\n",
      "307    0           3         1   48513\n",
      "308    0           2         5  220450\n",
      "309    0           2         5   89292\n",
      "310    0           3         1   45046\n",
      "\n",
      "[311 rows x 4 columns]\n"
     ]
    }
   ],
   "source": [
    "print(X)"
   ]
  },
  {
   "cell_type": "code",
   "execution_count": 96,
   "id": "08539ef4",
   "metadata": {},
   "outputs": [],
   "source": [
    "new_employee = np.array([1,3,5,100000])"
   ]
  },
  {
   "cell_type": "code",
   "execution_count": 97,
   "id": "3bdbb1da",
   "metadata": {},
   "outputs": [
    {
     "name": "stdout",
     "output_type": "stream",
     "text": [
      "Performance score prediction of the new employee from logistic model is[0]\n"
     ]
    }
   ],
   "source": [
    "print(\"Performance score prediction of the new employee from logistic model is{}\".format(log_model.predict(new_employee.reshape(1,-1))))"
   ]
  },
  {
   "cell_type": "code",
   "execution_count": null,
   "id": "af9cf0c6",
   "metadata": {},
   "outputs": [],
   "source": []
  }
 ],
 "metadata": {
  "kernelspec": {
   "display_name": "Python 3 (ipykernel)",
   "language": "python",
   "name": "python3"
  },
  "language_info": {
   "codemirror_mode": {
    "name": "ipython",
    "version": 3
   },
   "file_extension": ".py",
   "mimetype": "text/x-python",
   "name": "python",
   "nbconvert_exporter": "python",
   "pygments_lexer": "ipython3",
   "version": "3.10.9"
  }
 },
 "nbformat": 4,
 "nbformat_minor": 5
}
